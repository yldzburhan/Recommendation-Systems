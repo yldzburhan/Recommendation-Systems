{
 "cells": [
  {
   "cell_type": "markdown",
   "id": "ed6f8e67",
   "metadata": {
    "papermill": {
     "duration": 0.016479,
     "end_time": "2023-11-13T13:12:40.639140",
     "exception": false,
     "start_time": "2023-11-13T13:12:40.622661",
     "status": "completed"
    },
    "tags": []
   },
   "source": [
    "<div style=\"border-radius: 10px; border: #6B8E23 solid; padding: 15px; background-color: #F5F5DC; font-size: 100%; text-align: left\">\n",
    "\n",
    "<h3 align=\"left\"><font color='#556B2F'>📜 Introduction : </font></h3>\n",
    "    \n",
    "* This data set contains information on user preference data from 73,516 users on 12,294 anime. Each user is able to add anime to their completed list and give it a rating and this data set is a compilation of those ratings."
   ]
  },
  {
   "cell_type": "markdown",
   "id": "03fa9ab9",
   "metadata": {
    "papermill": {
     "duration": 0.015609,
     "end_time": "2023-11-13T13:12:40.670858",
     "exception": false,
     "start_time": "2023-11-13T13:12:40.655249",
     "status": "completed"
    },
    "tags": []
   },
   "source": [
    "# Content\n",
    "\n",
    "1. [Importing & Reading Data](#1)\n",
    "1. [Association Rule Learning](#2)\n",
    "    * [Data Preprocessing](#3)\n",
    "    * [Anime-User Matrix](#4)\n",
    "    * [Association Rules Analysis](#5)\n",
    "    * [Product Recommendation](#6)\n",
    "1. [Content Based Filtering](#7)\n",
    "    * [Creating the TF-IDF Matrix](#8)\n",
    "    * [Cosine Sim Calculator](#9)\n",
    "    * [Recommendation Based on Similarities](#10)"
   ]
  },
  {
   "cell_type": "markdown",
   "id": "41595aca",
   "metadata": {
    "papermill": {
     "duration": 0.015594,
     "end_time": "2023-11-13T13:12:40.702260",
     "exception": false,
     "start_time": "2023-11-13T13:12:40.686666",
     "status": "completed"
    },
    "tags": []
   },
   "source": [
    "<a id=\"1\"></a>\n",
    "<h1 style=\"border-radius: 10px; border: 2px solid #6B8E23; background-color: #F5F5DC; font-family: 'Pacifico', cursive; font-size: 200%; text-align: center; border-radius: 15px 50px; padding: 15px; box-shadow: 5px 5px 5px #556B2F; color: #556B2F;\">Importing & Reading Data</h1>"
   ]
  },
  {
   "cell_type": "code",
   "execution_count": 1,
   "id": "55316851",
   "metadata": {
    "_cell_guid": "b1076dfc-b9ad-4769-8c92-a6c4dae69d19",
    "_uuid": "8f2839f25d086af736a60e9eeb907d3b93b6e0e5",
    "execution": {
     "iopub.execute_input": "2023-11-13T13:12:40.736964Z",
     "iopub.status.busy": "2023-11-13T13:12:40.736564Z",
     "iopub.status.idle": "2023-11-13T13:12:41.699126Z",
     "shell.execute_reply": "2023-11-13T13:12:41.697644Z"
    },
    "papermill": {
     "duration": 0.983213,
     "end_time": "2023-11-13T13:12:41.702065",
     "exception": false,
     "start_time": "2023-11-13T13:12:40.718852",
     "status": "completed"
    },
    "tags": []
   },
   "outputs": [],
   "source": [
    "import numpy as np\n",
    "import pandas as pd\n",
    "\n",
    "from mlxtend.frequent_patterns import apriori, association_rules\n",
    "\n",
    "import warnings\n",
    "warnings.filterwarnings(\"ignore\")"
   ]
  },
  {
   "cell_type": "code",
   "execution_count": 2,
   "id": "7023344e",
   "metadata": {
    "execution": {
     "iopub.execute_input": "2023-11-13T13:12:41.736612Z",
     "iopub.status.busy": "2023-11-13T13:12:41.735788Z",
     "iopub.status.idle": "2023-11-13T13:12:45.838300Z",
     "shell.execute_reply": "2023-11-13T13:12:45.837041Z"
    },
    "papermill": {
     "duration": 4.123275,
     "end_time": "2023-11-13T13:12:45.841461",
     "exception": false,
     "start_time": "2023-11-13T13:12:41.718186",
     "status": "completed"
    },
    "tags": []
   },
   "outputs": [],
   "source": [
    "anime = pd.read_csv(\"/kaggle/input/anime-recommendations-database/anime.csv\")\n",
    "rating = pd.read_csv(\"/kaggle/input/anime-recommendations-database/rating.csv\")"
   ]
  },
  {
   "cell_type": "code",
   "execution_count": 3,
   "id": "4567c2a8",
   "metadata": {
    "execution": {
     "iopub.execute_input": "2023-11-13T13:12:45.876161Z",
     "iopub.status.busy": "2023-11-13T13:12:45.875386Z",
     "iopub.status.idle": "2023-11-13T13:12:45.899158Z",
     "shell.execute_reply": "2023-11-13T13:12:45.898089Z"
    },
    "papermill": {
     "duration": 0.044936,
     "end_time": "2023-11-13T13:12:45.902421",
     "exception": false,
     "start_time": "2023-11-13T13:12:45.857485",
     "status": "completed"
    },
    "tags": []
   },
   "outputs": [
    {
     "data": {
      "text/html": [
       "<div>\n",
       "<style scoped>\n",
       "    .dataframe tbody tr th:only-of-type {\n",
       "        vertical-align: middle;\n",
       "    }\n",
       "\n",
       "    .dataframe tbody tr th {\n",
       "        vertical-align: top;\n",
       "    }\n",
       "\n",
       "    .dataframe thead th {\n",
       "        text-align: right;\n",
       "    }\n",
       "</style>\n",
       "<table border=\"1\" class=\"dataframe\">\n",
       "  <thead>\n",
       "    <tr style=\"text-align: right;\">\n",
       "      <th></th>\n",
       "      <th>anime_id</th>\n",
       "      <th>name</th>\n",
       "      <th>genre</th>\n",
       "      <th>type</th>\n",
       "      <th>episodes</th>\n",
       "      <th>rating</th>\n",
       "      <th>members</th>\n",
       "    </tr>\n",
       "  </thead>\n",
       "  <tbody>\n",
       "    <tr>\n",
       "      <th>0</th>\n",
       "      <td>32281</td>\n",
       "      <td>Kimi no Na wa.</td>\n",
       "      <td>Drama, Romance, School, Supernatural</td>\n",
       "      <td>Movie</td>\n",
       "      <td>1</td>\n",
       "      <td>9.37</td>\n",
       "      <td>200630</td>\n",
       "    </tr>\n",
       "    <tr>\n",
       "      <th>1</th>\n",
       "      <td>5114</td>\n",
       "      <td>Fullmetal Alchemist: Brotherhood</td>\n",
       "      <td>Action, Adventure, Drama, Fantasy, Magic, Mili...</td>\n",
       "      <td>TV</td>\n",
       "      <td>64</td>\n",
       "      <td>9.26</td>\n",
       "      <td>793665</td>\n",
       "    </tr>\n",
       "    <tr>\n",
       "      <th>2</th>\n",
       "      <td>28977</td>\n",
       "      <td>Gintama°</td>\n",
       "      <td>Action, Comedy, Historical, Parody, Samurai, S...</td>\n",
       "      <td>TV</td>\n",
       "      <td>51</td>\n",
       "      <td>9.25</td>\n",
       "      <td>114262</td>\n",
       "    </tr>\n",
       "    <tr>\n",
       "      <th>3</th>\n",
       "      <td>9253</td>\n",
       "      <td>Steins;Gate</td>\n",
       "      <td>Sci-Fi, Thriller</td>\n",
       "      <td>TV</td>\n",
       "      <td>24</td>\n",
       "      <td>9.17</td>\n",
       "      <td>673572</td>\n",
       "    </tr>\n",
       "    <tr>\n",
       "      <th>4</th>\n",
       "      <td>9969</td>\n",
       "      <td>Gintama&amp;#039;</td>\n",
       "      <td>Action, Comedy, Historical, Parody, Samurai, S...</td>\n",
       "      <td>TV</td>\n",
       "      <td>51</td>\n",
       "      <td>9.16</td>\n",
       "      <td>151266</td>\n",
       "    </tr>\n",
       "  </tbody>\n",
       "</table>\n",
       "</div>"
      ],
      "text/plain": [
       "   anime_id                              name  \\\n",
       "0     32281                    Kimi no Na wa.   \n",
       "1      5114  Fullmetal Alchemist: Brotherhood   \n",
       "2     28977                          Gintama°   \n",
       "3      9253                       Steins;Gate   \n",
       "4      9969                     Gintama&#039;   \n",
       "\n",
       "                                               genre   type episodes  rating  \\\n",
       "0               Drama, Romance, School, Supernatural  Movie        1    9.37   \n",
       "1  Action, Adventure, Drama, Fantasy, Magic, Mili...     TV       64    9.26   \n",
       "2  Action, Comedy, Historical, Parody, Samurai, S...     TV       51    9.25   \n",
       "3                                   Sci-Fi, Thriller     TV       24    9.17   \n",
       "4  Action, Comedy, Historical, Parody, Samurai, S...     TV       51    9.16   \n",
       "\n",
       "   members  \n",
       "0   200630  \n",
       "1   793665  \n",
       "2   114262  \n",
       "3   673572  \n",
       "4   151266  "
      ]
     },
     "execution_count": 3,
     "metadata": {},
     "output_type": "execute_result"
    }
   ],
   "source": [
    "anime.head()"
   ]
  },
  {
   "cell_type": "code",
   "execution_count": 4,
   "id": "e1497c88",
   "metadata": {
    "execution": {
     "iopub.execute_input": "2023-11-13T13:12:45.936897Z",
     "iopub.status.busy": "2023-11-13T13:12:45.936496Z",
     "iopub.status.idle": "2023-11-13T13:12:45.947621Z",
     "shell.execute_reply": "2023-11-13T13:12:45.946500Z"
    },
    "papermill": {
     "duration": 0.030945,
     "end_time": "2023-11-13T13:12:45.949906",
     "exception": false,
     "start_time": "2023-11-13T13:12:45.918961",
     "status": "completed"
    },
    "tags": []
   },
   "outputs": [
    {
     "data": {
      "text/html": [
       "<div>\n",
       "<style scoped>\n",
       "    .dataframe tbody tr th:only-of-type {\n",
       "        vertical-align: middle;\n",
       "    }\n",
       "\n",
       "    .dataframe tbody tr th {\n",
       "        vertical-align: top;\n",
       "    }\n",
       "\n",
       "    .dataframe thead th {\n",
       "        text-align: right;\n",
       "    }\n",
       "</style>\n",
       "<table border=\"1\" class=\"dataframe\">\n",
       "  <thead>\n",
       "    <tr style=\"text-align: right;\">\n",
       "      <th></th>\n",
       "      <th>user_id</th>\n",
       "      <th>anime_id</th>\n",
       "      <th>rating</th>\n",
       "    </tr>\n",
       "  </thead>\n",
       "  <tbody>\n",
       "    <tr>\n",
       "      <th>0</th>\n",
       "      <td>1</td>\n",
       "      <td>20</td>\n",
       "      <td>-1</td>\n",
       "    </tr>\n",
       "    <tr>\n",
       "      <th>1</th>\n",
       "      <td>1</td>\n",
       "      <td>24</td>\n",
       "      <td>-1</td>\n",
       "    </tr>\n",
       "    <tr>\n",
       "      <th>2</th>\n",
       "      <td>1</td>\n",
       "      <td>79</td>\n",
       "      <td>-1</td>\n",
       "    </tr>\n",
       "    <tr>\n",
       "      <th>3</th>\n",
       "      <td>1</td>\n",
       "      <td>226</td>\n",
       "      <td>-1</td>\n",
       "    </tr>\n",
       "    <tr>\n",
       "      <th>4</th>\n",
       "      <td>1</td>\n",
       "      <td>241</td>\n",
       "      <td>-1</td>\n",
       "    </tr>\n",
       "  </tbody>\n",
       "</table>\n",
       "</div>"
      ],
      "text/plain": [
       "   user_id  anime_id  rating\n",
       "0        1        20      -1\n",
       "1        1        24      -1\n",
       "2        1        79      -1\n",
       "3        1       226      -1\n",
       "4        1       241      -1"
      ]
     },
     "execution_count": 4,
     "metadata": {},
     "output_type": "execute_result"
    }
   ],
   "source": [
    "rating.head()"
   ]
  },
  {
   "cell_type": "code",
   "execution_count": 5,
   "id": "bcaa7358",
   "metadata": {
    "execution": {
     "iopub.execute_input": "2023-11-13T13:12:45.985078Z",
     "iopub.status.busy": "2023-11-13T13:12:45.984619Z",
     "iopub.status.idle": "2023-11-13T13:12:46.210950Z",
     "shell.execute_reply": "2023-11-13T13:12:46.209839Z"
    },
    "papermill": {
     "duration": 0.247231,
     "end_time": "2023-11-13T13:12:46.213743",
     "exception": false,
     "start_time": "2023-11-13T13:12:45.966512",
     "status": "completed"
    },
    "tags": []
   },
   "outputs": [],
   "source": [
    "anime.rename(columns= {\"rating\" : \"animerating\"}, inplace=True)\n",
    "rating.rename(columns= {\"rating\" : \"userrating\"}, inplace=True)\n",
    "\n",
    "rating = rating[rating[\"userrating\"] != -1]"
   ]
  },
  {
   "cell_type": "markdown",
   "id": "ab7900c8",
   "metadata": {
    "papermill": {
     "duration": 0.016436,
     "end_time": "2023-11-13T13:12:46.246938",
     "exception": false,
     "start_time": "2023-11-13T13:12:46.230502",
     "status": "completed"
    },
    "tags": []
   },
   "source": [
    "<div style=\"border-radius: 10px; border: #6B8E23 solid; padding: 15px; background-color: #F5F5DC; font-size: 100%; text-align: left\">\n",
    "\n",
    "<h3 align=\"left\"><font color='#556B2F'>👀 Features : </font></h3>\n",
    "    \n",
    "* **Anime.csv**\n",
    "    * **anime_id** - myanimelist.net's unique id identifying an anime.\n",
    "    * **name** - full name of anime.\n",
    "    * **genre** - comma separated list of genres for this anime.\n",
    "    * **type** - movie, TV, OVA, etc.\n",
    "    * **episodes** - how many episodes in this show. (1 if movie).\n",
    "    * **rating** - average rating out of 10 for this anime.\n",
    "    * **members** - number of community members that are in this anime's \"group\".   \n",
    "* **Rating.csv**\n",
    "    * **user_id** - non identifiable randomly generated user id.\n",
    "    * **anime_id** - the anime that this user has rated.\n",
    "    * **rating** - rating out of 10 this user has assigned (-1 if the user watched it but didn't assign a rating)."
   ]
  },
  {
   "cell_type": "code",
   "execution_count": 6,
   "id": "21737ad0",
   "metadata": {
    "execution": {
     "iopub.execute_input": "2023-11-13T13:12:46.281826Z",
     "iopub.status.busy": "2023-11-13T13:12:46.281418Z",
     "iopub.status.idle": "2023-11-13T13:12:48.019925Z",
     "shell.execute_reply": "2023-11-13T13:12:48.018756Z"
    },
    "papermill": {
     "duration": 1.75928,
     "end_time": "2023-11-13T13:12:48.022682",
     "exception": false,
     "start_time": "2023-11-13T13:12:46.263402",
     "status": "completed"
    },
    "tags": []
   },
   "outputs": [
    {
     "data": {
      "text/html": [
       "<div>\n",
       "<style scoped>\n",
       "    .dataframe tbody tr th:only-of-type {\n",
       "        vertical-align: middle;\n",
       "    }\n",
       "\n",
       "    .dataframe tbody tr th {\n",
       "        vertical-align: top;\n",
       "    }\n",
       "\n",
       "    .dataframe thead th {\n",
       "        text-align: right;\n",
       "    }\n",
       "</style>\n",
       "<table border=\"1\" class=\"dataframe\">\n",
       "  <thead>\n",
       "    <tr style=\"text-align: right;\">\n",
       "      <th></th>\n",
       "      <th>anime_id</th>\n",
       "      <th>name</th>\n",
       "      <th>genre</th>\n",
       "      <th>type</th>\n",
       "      <th>episodes</th>\n",
       "      <th>animerating</th>\n",
       "      <th>members</th>\n",
       "      <th>user_id</th>\n",
       "      <th>userrating</th>\n",
       "    </tr>\n",
       "  </thead>\n",
       "  <tbody>\n",
       "    <tr>\n",
       "      <th>0</th>\n",
       "      <td>32281</td>\n",
       "      <td>Kimi no Na wa.</td>\n",
       "      <td>Drama, Romance, School, Supernatural</td>\n",
       "      <td>Movie</td>\n",
       "      <td>1</td>\n",
       "      <td>9.37</td>\n",
       "      <td>200630</td>\n",
       "      <td>99</td>\n",
       "      <td>5</td>\n",
       "    </tr>\n",
       "    <tr>\n",
       "      <th>1</th>\n",
       "      <td>32281</td>\n",
       "      <td>Kimi no Na wa.</td>\n",
       "      <td>Drama, Romance, School, Supernatural</td>\n",
       "      <td>Movie</td>\n",
       "      <td>1</td>\n",
       "      <td>9.37</td>\n",
       "      <td>200630</td>\n",
       "      <td>152</td>\n",
       "      <td>10</td>\n",
       "    </tr>\n",
       "    <tr>\n",
       "      <th>2</th>\n",
       "      <td>32281</td>\n",
       "      <td>Kimi no Na wa.</td>\n",
       "      <td>Drama, Romance, School, Supernatural</td>\n",
       "      <td>Movie</td>\n",
       "      <td>1</td>\n",
       "      <td>9.37</td>\n",
       "      <td>200630</td>\n",
       "      <td>244</td>\n",
       "      <td>10</td>\n",
       "    </tr>\n",
       "    <tr>\n",
       "      <th>3</th>\n",
       "      <td>32281</td>\n",
       "      <td>Kimi no Na wa.</td>\n",
       "      <td>Drama, Romance, School, Supernatural</td>\n",
       "      <td>Movie</td>\n",
       "      <td>1</td>\n",
       "      <td>9.37</td>\n",
       "      <td>200630</td>\n",
       "      <td>271</td>\n",
       "      <td>10</td>\n",
       "    </tr>\n",
       "    <tr>\n",
       "      <th>4</th>\n",
       "      <td>32281</td>\n",
       "      <td>Kimi no Na wa.</td>\n",
       "      <td>Drama, Romance, School, Supernatural</td>\n",
       "      <td>Movie</td>\n",
       "      <td>1</td>\n",
       "      <td>9.37</td>\n",
       "      <td>200630</td>\n",
       "      <td>322</td>\n",
       "      <td>10</td>\n",
       "    </tr>\n",
       "  </tbody>\n",
       "</table>\n",
       "</div>"
      ],
      "text/plain": [
       "   anime_id            name                                 genre   type  \\\n",
       "0     32281  Kimi no Na wa.  Drama, Romance, School, Supernatural  Movie   \n",
       "1     32281  Kimi no Na wa.  Drama, Romance, School, Supernatural  Movie   \n",
       "2     32281  Kimi no Na wa.  Drama, Romance, School, Supernatural  Movie   \n",
       "3     32281  Kimi no Na wa.  Drama, Romance, School, Supernatural  Movie   \n",
       "4     32281  Kimi no Na wa.  Drama, Romance, School, Supernatural  Movie   \n",
       "\n",
       "  episodes  animerating  members  user_id  userrating  \n",
       "0        1         9.37   200630       99           5  \n",
       "1        1         9.37   200630      152          10  \n",
       "2        1         9.37   200630      244          10  \n",
       "3        1         9.37   200630      271          10  \n",
       "4        1         9.37   200630      322          10  "
      ]
     },
     "execution_count": 6,
     "metadata": {},
     "output_type": "execute_result"
    }
   ],
   "source": [
    "df = pd.merge(anime,rating, how=\"inner\", on=\"anime_id\")\n",
    "\n",
    "df.head()"
   ]
  },
  {
   "cell_type": "code",
   "execution_count": 7,
   "id": "e3c2e026",
   "metadata": {
    "execution": {
     "iopub.execute_input": "2023-11-13T13:12:48.059016Z",
     "iopub.status.busy": "2023-11-13T13:12:48.058615Z",
     "iopub.status.idle": "2023-11-13T13:12:48.065909Z",
     "shell.execute_reply": "2023-11-13T13:12:48.064763Z"
    },
    "papermill": {
     "duration": 0.028299,
     "end_time": "2023-11-13T13:12:48.068263",
     "exception": false,
     "start_time": "2023-11-13T13:12:48.039964",
     "status": "completed"
    },
    "tags": []
   },
   "outputs": [
    {
     "data": {
      "text/plain": [
       "(6337239, 9)"
      ]
     },
     "execution_count": 7,
     "metadata": {},
     "output_type": "execute_result"
    }
   ],
   "source": [
    "df.shape # 7814824 rating, 9 columns"
   ]
  },
  {
   "cell_type": "code",
   "execution_count": 8,
   "id": "c2addf46",
   "metadata": {
    "execution": {
     "iopub.execute_input": "2023-11-13T13:12:48.104277Z",
     "iopub.status.busy": "2023-11-13T13:12:48.103488Z",
     "iopub.status.idle": "2023-11-13T13:12:50.716159Z",
     "shell.execute_reply": "2023-11-13T13:12:50.715172Z"
    },
    "papermill": {
     "duration": 2.633676,
     "end_time": "2023-11-13T13:12:50.718856",
     "exception": false,
     "start_time": "2023-11-13T13:12:48.085180",
     "status": "completed"
    },
    "tags": []
   },
   "outputs": [
    {
     "data": {
      "text/plain": [
       "anime_id        0\n",
       "name            0\n",
       "genre          88\n",
       "type            4\n",
       "episodes        0\n",
       "animerating     5\n",
       "members         0\n",
       "user_id         0\n",
       "userrating      0\n",
       "dtype: int64"
      ]
     },
     "execution_count": 8,
     "metadata": {},
     "output_type": "execute_result"
    }
   ],
   "source": [
    "df.isnull().sum()"
   ]
  },
  {
   "cell_type": "markdown",
   "id": "697998c3",
   "metadata": {
    "papermill": {
     "duration": 0.016758,
     "end_time": "2023-11-13T13:12:50.813798",
     "exception": false,
     "start_time": "2023-11-13T13:12:50.797040",
     "status": "completed"
    },
    "tags": []
   },
   "source": [
    "<a id=\"2\"></a>\n",
    "<h1 style=\"border-radius: 10px; border: 2px solid #6B8E23; background-color: #F5F5DC; font-family: 'Pacifico', cursive; font-size: 200%; text-align: center; border-radius: 15px 50px; padding: 15px; box-shadow: 5px 5px 5px #556B2F; color: #556B2F;\">Association Rule Learning</h1>"
   ]
  },
  {
   "cell_type": "markdown",
   "id": "ba596660",
   "metadata": {
    "papermill": {
     "duration": 0.017042,
     "end_time": "2023-11-13T13:12:50.848305",
     "exception": false,
     "start_time": "2023-11-13T13:12:50.831263",
     "status": "completed"
    },
    "tags": []
   },
   "source": [
    "<a id = \"3\"></a><br>\n",
    "<p style=\"font-family: 'Pacifico', cursive; font-weight: bold; letter-spacing: 2px; color: #556B2F; font-size: 160%; text-align: left; padding: 0px; border-bottom: 3px solid\">✨Data Preprocessing✨</p>"
   ]
  },
  {
   "cell_type": "code",
   "execution_count": 9,
   "id": "0866bec2",
   "metadata": {
    "execution": {
     "iopub.execute_input": "2023-11-13T13:12:50.885395Z",
     "iopub.status.busy": "2023-11-13T13:12:50.885018Z",
     "iopub.status.idle": "2023-11-13T13:12:51.547640Z",
     "shell.execute_reply": "2023-11-13T13:12:51.546542Z"
    },
    "papermill": {
     "duration": 0.683924,
     "end_time": "2023-11-13T13:12:51.550172",
     "exception": false,
     "start_time": "2023-11-13T13:12:50.866248",
     "status": "completed"
    },
    "tags": []
   },
   "outputs": [
    {
     "data": {
      "text/plain": [
       "9926"
      ]
     },
     "execution_count": 9,
     "metadata": {},
     "output_type": "execute_result"
    }
   ],
   "source": [
    "df[\"name\"].nunique() # 3048 unique anime"
   ]
  },
  {
   "cell_type": "code",
   "execution_count": 10,
   "id": "418462a1",
   "metadata": {
    "execution": {
     "iopub.execute_input": "2023-11-13T13:12:51.587493Z",
     "iopub.status.busy": "2023-11-13T13:12:51.587086Z",
     "iopub.status.idle": "2023-11-13T13:12:52.384759Z",
     "shell.execute_reply": "2023-11-13T13:12:52.383460Z"
    },
    "papermill": {
     "duration": 0.819016,
     "end_time": "2023-11-13T13:12:52.387243",
     "exception": false,
     "start_time": "2023-11-13T13:12:51.568227",
     "status": "completed"
    },
    "tags": []
   },
   "outputs": [
    {
     "data": {
      "text/plain": [
       "name\n",
       "Death Note                                            34226\n",
       "Sword Art Online                                      26310\n",
       "Shingeki no Kyojin                                    25290\n",
       "Code Geass: Hangyaku no Lelouch                       24126\n",
       "Angel Beats!                                          23565\n",
       "                                                      ...  \n",
       "Manga Doushite Monogatari                                 1\n",
       "Manabu no Natsuyasumi                                     1\n",
       "Mameshi-Pamyu-Pamyu                                       1\n",
       "Maku                                                      1\n",
       "Violence Gekiga Shin David no Hoshi: Inma Densetsu        1\n",
       "Name: count, Length: 9926, dtype: int64"
      ]
     },
     "execution_count": 10,
     "metadata": {},
     "output_type": "execute_result"
    }
   ],
   "source": [
    "df[\"name\"].value_counts()"
   ]
  },
  {
   "cell_type": "code",
   "execution_count": 11,
   "id": "03717fb1",
   "metadata": {
    "execution": {
     "iopub.execute_input": "2023-11-13T13:12:52.424148Z",
     "iopub.status.busy": "2023-11-13T13:12:52.423753Z",
     "iopub.status.idle": "2023-11-13T13:12:53.967814Z",
     "shell.execute_reply": "2023-11-13T13:12:53.966631Z"
    },
    "papermill": {
     "duration": 1.565309,
     "end_time": "2023-11-13T13:12:53.970311",
     "exception": false,
     "start_time": "2023-11-13T13:12:52.405002",
     "status": "completed"
    },
    "tags": []
   },
   "outputs": [
    {
     "name": "stdout",
     "output_type": "stream",
     "text": [
      "Lower Confidence Interval: 603\n",
      "Upper Confidence Interval: 674\n"
     ]
    }
   ],
   "source": [
    "import statsmodels.stats.api as sms\n",
    "\n",
    "low_conf, up_conf = sms.DescrStatsW(df[\"anime_id\"].value_counts()).tconfint_mean()\n",
    "\n",
    "print(f\"Lower Confidence Interval: {low_conf:.0f}\")\n",
    "print(f\"Upper Confidence Interval: {up_conf:.0f}\")"
   ]
  },
  {
   "cell_type": "markdown",
   "id": "5352fe05",
   "metadata": {
    "papermill": {
     "duration": 0.017363,
     "end_time": "2023-11-13T13:12:54.005322",
     "exception": false,
     "start_time": "2023-11-13T13:12:53.987959",
     "status": "completed"
    },
    "tags": []
   },
   "source": [
    "<div style=\"border-radius:10px; border:#65647C solid; padding: 15px; background-color: #F8EDE3; font-size:100%; text-align:left\">\n",
    "\n",
    "<h3 align=\"left\"><font color='#7D6E83'><b>🗨️ Comment: </b></font></h3>\n",
    "    \n",
    "A confidence interval represents a range of values within which we can make estimates about a specific property or measurement in a dataset. It has two important components: the lower confidence interval and the upper confidence interval.\n",
    "\n",
    "These confidence intervals are typically calculated based on a specific level of confidence. This confidence level indicates how confident an analyst or statistician wants to be in the estimate. For example, a 95% confidence level is commonly used, and a confidence interval calculated at this level means that there is a 95% probability that the true value of the data falls within this interval.\n",
    "\n",
    "603 and 674 represent the confidence interval for a particular dataset's property or measurement. For instance, if these two numbers represent the confidence interval for an income distribution, it would mean that with a certain confidence level (e.g., 95%), the income is expected to be between 603 and 674 units."
   ]
  },
  {
   "cell_type": "code",
   "execution_count": 12,
   "id": "674e25da",
   "metadata": {
    "execution": {
     "iopub.execute_input": "2023-11-13T13:12:54.042467Z",
     "iopub.status.busy": "2023-11-13T13:12:54.042070Z",
     "iopub.status.idle": "2023-11-13T13:12:55.290499Z",
     "shell.execute_reply": "2023-11-13T13:12:55.289423Z"
    },
    "papermill": {
     "duration": 1.269976,
     "end_time": "2023-11-13T13:12:55.293018",
     "exception": false,
     "start_time": "2023-11-13T13:12:54.023042",
     "status": "completed"
    },
    "tags": []
   },
   "outputs": [
    {
     "data": {
      "text/plain": [
       "2007"
      ]
     },
     "execution_count": 12,
     "metadata": {},
     "output_type": "execute_result"
    }
   ],
   "source": [
    "rating_counts = pd.DataFrame(df[\"anime_id\"].value_counts())\n",
    "rare_animes = rating_counts[rating_counts[\"count\"] < low_conf].index\n",
    "common_anime = df[~df[\"anime_id\"].isin(rare_animes)]\n",
    "\n",
    "common_anime[\"name\"].nunique()"
   ]
  },
  {
   "cell_type": "markdown",
   "id": "220a6442",
   "metadata": {
    "papermill": {
     "duration": 0.01752,
     "end_time": "2023-11-13T13:12:55.328494",
     "exception": false,
     "start_time": "2023-11-13T13:12:55.310974",
     "status": "completed"
    },
    "tags": []
   },
   "source": [
    "<div style=\"border-radius:10px; border:#65647C solid; padding: 15px; background-color: #F8EDE3; font-size:100%; text-align:left\">\n",
    "\n",
    "<h3 align=\"left\"><font color='#7D6E83'><b>🗨️ Comment: </b></font></h3>\n",
    "    \n",
    "We removed the ratings that are lower than the Lower Confidence Interval."
   ]
  },
  {
   "cell_type": "markdown",
   "id": "14fe053e",
   "metadata": {
    "papermill": {
     "duration": 0.017416,
     "end_time": "2023-11-13T13:12:55.363674",
     "exception": false,
     "start_time": "2023-11-13T13:12:55.346258",
     "status": "completed"
    },
    "tags": []
   },
   "source": [
    "<a id = \"4\"></a><br>\n",
    "<p style=\"font-family: 'Pacifico', cursive; font-weight: bold; letter-spacing: 2px; color: #556B2F; font-size: 160%; text-align: left; padding: 0px; border-bottom: 3px solid\">✨Anime-User Matrix✨</p>"
   ]
  },
  {
   "cell_type": "code",
   "execution_count": 13,
   "id": "1703227e",
   "metadata": {
    "execution": {
     "iopub.execute_input": "2023-11-13T13:12:55.400876Z",
     "iopub.status.busy": "2023-11-13T13:12:55.400463Z",
     "iopub.status.idle": "2023-11-13T13:13:01.094865Z",
     "shell.execute_reply": "2023-11-13T13:13:01.093633Z"
    },
    "papermill": {
     "duration": 5.716408,
     "end_time": "2023-11-13T13:13:01.097785",
     "exception": false,
     "start_time": "2023-11-13T13:12:55.381377",
     "status": "completed"
    },
    "tags": []
   },
   "outputs": [
    {
     "data": {
      "text/html": [
       "<div>\n",
       "<style scoped>\n",
       "    .dataframe tbody tr th:only-of-type {\n",
       "        vertical-align: middle;\n",
       "    }\n",
       "\n",
       "    .dataframe tbody tr th {\n",
       "        vertical-align: top;\n",
       "    }\n",
       "\n",
       "    .dataframe thead th {\n",
       "        text-align: right;\n",
       "    }\n",
       "</style>\n",
       "<table border=\"1\" class=\"dataframe\">\n",
       "  <thead>\n",
       "    <tr style=\"text-align: right;\">\n",
       "      <th>anime_id</th>\n",
       "      <th>1</th>\n",
       "      <th>5</th>\n",
       "      <th>6</th>\n",
       "      <th>7</th>\n",
       "      <th>15</th>\n",
       "      <th>16</th>\n",
       "      <th>18</th>\n",
       "      <th>19</th>\n",
       "      <th>20</th>\n",
       "      <th>22</th>\n",
       "      <th>...</th>\n",
       "      <th>32668</th>\n",
       "      <th>32681</th>\n",
       "      <th>32729</th>\n",
       "      <th>32828</th>\n",
       "      <th>32935</th>\n",
       "      <th>32998</th>\n",
       "      <th>33028</th>\n",
       "      <th>33558</th>\n",
       "      <th>34103</th>\n",
       "      <th>34240</th>\n",
       "    </tr>\n",
       "    <tr>\n",
       "      <th>user_id</th>\n",
       "      <th></th>\n",
       "      <th></th>\n",
       "      <th></th>\n",
       "      <th></th>\n",
       "      <th></th>\n",
       "      <th></th>\n",
       "      <th></th>\n",
       "      <th></th>\n",
       "      <th></th>\n",
       "      <th></th>\n",
       "      <th></th>\n",
       "      <th></th>\n",
       "      <th></th>\n",
       "      <th></th>\n",
       "      <th></th>\n",
       "      <th></th>\n",
       "      <th></th>\n",
       "      <th></th>\n",
       "      <th></th>\n",
       "      <th></th>\n",
       "      <th></th>\n",
       "    </tr>\n",
       "  </thead>\n",
       "  <tbody>\n",
       "    <tr>\n",
       "      <th>1</th>\n",
       "      <td>False</td>\n",
       "      <td>False</td>\n",
       "      <td>False</td>\n",
       "      <td>False</td>\n",
       "      <td>False</td>\n",
       "      <td>False</td>\n",
       "      <td>False</td>\n",
       "      <td>False</td>\n",
       "      <td>False</td>\n",
       "      <td>False</td>\n",
       "      <td>...</td>\n",
       "      <td>False</td>\n",
       "      <td>False</td>\n",
       "      <td>False</td>\n",
       "      <td>False</td>\n",
       "      <td>False</td>\n",
       "      <td>False</td>\n",
       "      <td>False</td>\n",
       "      <td>False</td>\n",
       "      <td>False</td>\n",
       "      <td>False</td>\n",
       "    </tr>\n",
       "    <tr>\n",
       "      <th>2</th>\n",
       "      <td>False</td>\n",
       "      <td>False</td>\n",
       "      <td>False</td>\n",
       "      <td>False</td>\n",
       "      <td>False</td>\n",
       "      <td>False</td>\n",
       "      <td>False</td>\n",
       "      <td>False</td>\n",
       "      <td>False</td>\n",
       "      <td>False</td>\n",
       "      <td>...</td>\n",
       "      <td>False</td>\n",
       "      <td>False</td>\n",
       "      <td>False</td>\n",
       "      <td>False</td>\n",
       "      <td>False</td>\n",
       "      <td>False</td>\n",
       "      <td>False</td>\n",
       "      <td>False</td>\n",
       "      <td>False</td>\n",
       "      <td>False</td>\n",
       "    </tr>\n",
       "    <tr>\n",
       "      <th>3</th>\n",
       "      <td>False</td>\n",
       "      <td>False</td>\n",
       "      <td>False</td>\n",
       "      <td>False</td>\n",
       "      <td>False</td>\n",
       "      <td>False</td>\n",
       "      <td>False</td>\n",
       "      <td>False</td>\n",
       "      <td>True</td>\n",
       "      <td>False</td>\n",
       "      <td>...</td>\n",
       "      <td>False</td>\n",
       "      <td>False</td>\n",
       "      <td>False</td>\n",
       "      <td>False</td>\n",
       "      <td>False</td>\n",
       "      <td>False</td>\n",
       "      <td>False</td>\n",
       "      <td>False</td>\n",
       "      <td>False</td>\n",
       "      <td>False</td>\n",
       "    </tr>\n",
       "    <tr>\n",
       "      <th>5</th>\n",
       "      <td>False</td>\n",
       "      <td>False</td>\n",
       "      <td>True</td>\n",
       "      <td>False</td>\n",
       "      <td>True</td>\n",
       "      <td>False</td>\n",
       "      <td>True</td>\n",
       "      <td>False</td>\n",
       "      <td>True</td>\n",
       "      <td>True</td>\n",
       "      <td>...</td>\n",
       "      <td>False</td>\n",
       "      <td>False</td>\n",
       "      <td>False</td>\n",
       "      <td>True</td>\n",
       "      <td>False</td>\n",
       "      <td>False</td>\n",
       "      <td>False</td>\n",
       "      <td>False</td>\n",
       "      <td>False</td>\n",
       "      <td>False</td>\n",
       "    </tr>\n",
       "    <tr>\n",
       "      <th>7</th>\n",
       "      <td>False</td>\n",
       "      <td>False</td>\n",
       "      <td>False</td>\n",
       "      <td>False</td>\n",
       "      <td>False</td>\n",
       "      <td>False</td>\n",
       "      <td>False</td>\n",
       "      <td>False</td>\n",
       "      <td>False</td>\n",
       "      <td>True</td>\n",
       "      <td>...</td>\n",
       "      <td>False</td>\n",
       "      <td>False</td>\n",
       "      <td>False</td>\n",
       "      <td>False</td>\n",
       "      <td>False</td>\n",
       "      <td>False</td>\n",
       "      <td>False</td>\n",
       "      <td>False</td>\n",
       "      <td>False</td>\n",
       "      <td>False</td>\n",
       "    </tr>\n",
       "    <tr>\n",
       "      <th>...</th>\n",
       "      <td>...</td>\n",
       "      <td>...</td>\n",
       "      <td>...</td>\n",
       "      <td>...</td>\n",
       "      <td>...</td>\n",
       "      <td>...</td>\n",
       "      <td>...</td>\n",
       "      <td>...</td>\n",
       "      <td>...</td>\n",
       "      <td>...</td>\n",
       "      <td>...</td>\n",
       "      <td>...</td>\n",
       "      <td>...</td>\n",
       "      <td>...</td>\n",
       "      <td>...</td>\n",
       "      <td>...</td>\n",
       "      <td>...</td>\n",
       "      <td>...</td>\n",
       "      <td>...</td>\n",
       "      <td>...</td>\n",
       "      <td>...</td>\n",
       "    </tr>\n",
       "    <tr>\n",
       "      <th>73512</th>\n",
       "      <td>False</td>\n",
       "      <td>False</td>\n",
       "      <td>False</td>\n",
       "      <td>False</td>\n",
       "      <td>False</td>\n",
       "      <td>False</td>\n",
       "      <td>False</td>\n",
       "      <td>False</td>\n",
       "      <td>False</td>\n",
       "      <td>False</td>\n",
       "      <td>...</td>\n",
       "      <td>False</td>\n",
       "      <td>False</td>\n",
       "      <td>False</td>\n",
       "      <td>False</td>\n",
       "      <td>False</td>\n",
       "      <td>False</td>\n",
       "      <td>False</td>\n",
       "      <td>False</td>\n",
       "      <td>False</td>\n",
       "      <td>False</td>\n",
       "    </tr>\n",
       "    <tr>\n",
       "      <th>73513</th>\n",
       "      <td>True</td>\n",
       "      <td>True</td>\n",
       "      <td>False</td>\n",
       "      <td>False</td>\n",
       "      <td>False</td>\n",
       "      <td>False</td>\n",
       "      <td>False</td>\n",
       "      <td>False</td>\n",
       "      <td>False</td>\n",
       "      <td>False</td>\n",
       "      <td>...</td>\n",
       "      <td>False</td>\n",
       "      <td>False</td>\n",
       "      <td>False</td>\n",
       "      <td>False</td>\n",
       "      <td>False</td>\n",
       "      <td>False</td>\n",
       "      <td>False</td>\n",
       "      <td>False</td>\n",
       "      <td>False</td>\n",
       "      <td>False</td>\n",
       "    </tr>\n",
       "    <tr>\n",
       "      <th>73514</th>\n",
       "      <td>False</td>\n",
       "      <td>False</td>\n",
       "      <td>False</td>\n",
       "      <td>False</td>\n",
       "      <td>False</td>\n",
       "      <td>False</td>\n",
       "      <td>False</td>\n",
       "      <td>False</td>\n",
       "      <td>False</td>\n",
       "      <td>False</td>\n",
       "      <td>...</td>\n",
       "      <td>False</td>\n",
       "      <td>False</td>\n",
       "      <td>False</td>\n",
       "      <td>False</td>\n",
       "      <td>False</td>\n",
       "      <td>False</td>\n",
       "      <td>False</td>\n",
       "      <td>False</td>\n",
       "      <td>False</td>\n",
       "      <td>False</td>\n",
       "    </tr>\n",
       "    <tr>\n",
       "      <th>73515</th>\n",
       "      <td>True</td>\n",
       "      <td>True</td>\n",
       "      <td>True</td>\n",
       "      <td>False</td>\n",
       "      <td>False</td>\n",
       "      <td>False</td>\n",
       "      <td>False</td>\n",
       "      <td>True</td>\n",
       "      <td>False</td>\n",
       "      <td>False</td>\n",
       "      <td>...</td>\n",
       "      <td>False</td>\n",
       "      <td>False</td>\n",
       "      <td>False</td>\n",
       "      <td>False</td>\n",
       "      <td>False</td>\n",
       "      <td>False</td>\n",
       "      <td>False</td>\n",
       "      <td>False</td>\n",
       "      <td>False</td>\n",
       "      <td>False</td>\n",
       "    </tr>\n",
       "    <tr>\n",
       "      <th>73516</th>\n",
       "      <td>False</td>\n",
       "      <td>False</td>\n",
       "      <td>False</td>\n",
       "      <td>False</td>\n",
       "      <td>False</td>\n",
       "      <td>False</td>\n",
       "      <td>False</td>\n",
       "      <td>False</td>\n",
       "      <td>False</td>\n",
       "      <td>False</td>\n",
       "      <td>...</td>\n",
       "      <td>False</td>\n",
       "      <td>False</td>\n",
       "      <td>False</td>\n",
       "      <td>False</td>\n",
       "      <td>False</td>\n",
       "      <td>False</td>\n",
       "      <td>False</td>\n",
       "      <td>False</td>\n",
       "      <td>False</td>\n",
       "      <td>False</td>\n",
       "    </tr>\n",
       "  </tbody>\n",
       "</table>\n",
       "<p>69416 rows × 2007 columns</p>\n",
       "</div>"
      ],
      "text/plain": [
       "anime_id  1      5      6      7      15     16     18     19     20     \\\n",
       "user_id                                                                   \n",
       "1         False  False  False  False  False  False  False  False  False   \n",
       "2         False  False  False  False  False  False  False  False  False   \n",
       "3         False  False  False  False  False  False  False  False   True   \n",
       "5         False  False   True  False   True  False   True  False   True   \n",
       "7         False  False  False  False  False  False  False  False  False   \n",
       "...         ...    ...    ...    ...    ...    ...    ...    ...    ...   \n",
       "73512     False  False  False  False  False  False  False  False  False   \n",
       "73513      True   True  False  False  False  False  False  False  False   \n",
       "73514     False  False  False  False  False  False  False  False  False   \n",
       "73515      True   True   True  False  False  False  False   True  False   \n",
       "73516     False  False  False  False  False  False  False  False  False   \n",
       "\n",
       "anime_id  22     ...  32668  32681  32729  32828  32935  32998  33028  33558  \\\n",
       "user_id          ...                                                           \n",
       "1         False  ...  False  False  False  False  False  False  False  False   \n",
       "2         False  ...  False  False  False  False  False  False  False  False   \n",
       "3         False  ...  False  False  False  False  False  False  False  False   \n",
       "5          True  ...  False  False  False   True  False  False  False  False   \n",
       "7          True  ...  False  False  False  False  False  False  False  False   \n",
       "...         ...  ...    ...    ...    ...    ...    ...    ...    ...    ...   \n",
       "73512     False  ...  False  False  False  False  False  False  False  False   \n",
       "73513     False  ...  False  False  False  False  False  False  False  False   \n",
       "73514     False  ...  False  False  False  False  False  False  False  False   \n",
       "73515     False  ...  False  False  False  False  False  False  False  False   \n",
       "73516     False  ...  False  False  False  False  False  False  False  False   \n",
       "\n",
       "anime_id  34103  34240  \n",
       "user_id                 \n",
       "1         False  False  \n",
       "2         False  False  \n",
       "3         False  False  \n",
       "5         False  False  \n",
       "7         False  False  \n",
       "...         ...    ...  \n",
       "73512     False  False  \n",
       "73513     False  False  \n",
       "73514     False  False  \n",
       "73515     False  False  \n",
       "73516     False  False  \n",
       "\n",
       "[69416 rows x 2007 columns]"
      ]
     },
     "execution_count": 13,
     "metadata": {},
     "output_type": "execute_result"
    }
   ],
   "source": [
    "user_anime_matrix = common_anime.groupby([\"user_id\",\"anime_id\"])[\"animerating\"].count().unstack().notnull()\n",
    "\n",
    "user_anime_matrix"
   ]
  },
  {
   "cell_type": "markdown",
   "id": "c3246b09",
   "metadata": {
    "papermill": {
     "duration": 0.018529,
     "end_time": "2023-11-13T13:13:01.135207",
     "exception": false,
     "start_time": "2023-11-13T13:13:01.116678",
     "status": "completed"
    },
    "tags": []
   },
   "source": [
    "<a id = \"5\"></a><br>\n",
    "<p style=\"font-family: 'Pacifico', cursive; font-weight: bold; letter-spacing: 2px; color: #556B2F; font-size: 160%; text-align: left; padding: 0px; border-bottom: 3px solid\">✨Association Rules Analysis✨</p>"
   ]
  },
  {
   "cell_type": "code",
   "execution_count": 14,
   "id": "dcbcb1a6",
   "metadata": {
    "execution": {
     "iopub.execute_input": "2023-11-13T13:13:01.175136Z",
     "iopub.status.busy": "2023-11-13T13:13:01.174683Z",
     "iopub.status.idle": "2023-11-13T13:13:10.932604Z",
     "shell.execute_reply": "2023-11-13T13:13:10.931605Z"
    },
    "papermill": {
     "duration": 9.781398,
     "end_time": "2023-11-13T13:13:10.935386",
     "exception": false,
     "start_time": "2023-11-13T13:13:01.153988",
     "status": "completed"
    },
    "tags": []
   },
   "outputs": [],
   "source": [
    "frequent_itemsets = apriori(user_anime_matrix,min_support=0.1,use_colnames=True,low_memory=True)\n",
    "\n",
    "frequent_itemsets.sort_values(\"support\", ascending=False)\n",
    "\n",
    "rules = association_rules(frequent_itemsets,metric=\"support\",min_threshold=0.01)"
   ]
  },
  {
   "cell_type": "markdown",
   "id": "4c6d1ce1",
   "metadata": {
    "papermill": {
     "duration": 0.018727,
     "end_time": "2023-11-13T13:13:10.973226",
     "exception": false,
     "start_time": "2023-11-13T13:13:10.954499",
     "status": "completed"
    },
    "tags": []
   },
   "source": [
    "<a id = \"6\"></a><br>\n",
    "<p style=\"font-family: 'Pacifico', cursive; font-weight: bold; letter-spacing: 2px; color: #556B2F; font-size: 160%; text-align: left; padding: 0px; border-bottom: 3px solid\">✨Product Recommendation✨</p>"
   ]
  },
  {
   "cell_type": "code",
   "execution_count": 15,
   "id": "9ba8db2e",
   "metadata": {
    "execution": {
     "iopub.execute_input": "2023-11-13T13:13:11.012467Z",
     "iopub.status.busy": "2023-11-13T13:13:11.012022Z",
     "iopub.status.idle": "2023-11-13T13:13:11.020245Z",
     "shell.execute_reply": "2023-11-13T13:13:11.019002Z"
    },
    "papermill": {
     "duration": 0.030898,
     "end_time": "2023-11-13T13:13:11.022812",
     "exception": false,
     "start_time": "2023-11-13T13:13:10.991914",
     "status": "completed"
    },
    "tags": []
   },
   "outputs": [],
   "source": [
    "def arl_recommender(rules_df, product_id, rec=1):\n",
    "    \n",
    "    sorted_rules = rules_df.sort_values(\"lift\", ascending=False)\n",
    "    \n",
    "    recommendation_list = []\n",
    "    \n",
    "    for i, product in enumerate(sorted_rules[\"antecedents\"]):\n",
    "        \n",
    "        for j in list(product):\n",
    "            \n",
    "            if j == product_id:\n",
    "                \n",
    "                for k in list(sorted_rules.iloc[i][\"consequents\"]):\n",
    "                \n",
    "                    if k not in recommendation_list:\n",
    "                        \n",
    "                        recommendation_list.append(k)\n",
    "\n",
    "    return recommendation_list[0:rec]"
   ]
  },
  {
   "cell_type": "code",
   "execution_count": 16,
   "id": "1150a7c1",
   "metadata": {
    "execution": {
     "iopub.execute_input": "2023-11-13T13:13:11.062400Z",
     "iopub.status.busy": "2023-11-13T13:13:11.061998Z",
     "iopub.status.idle": "2023-11-13T13:13:14.792407Z",
     "shell.execute_reply": "2023-11-13T13:13:14.791215Z"
    },
    "papermill": {
     "duration": 3.753025,
     "end_time": "2023-11-13T13:13:14.794873",
     "exception": false,
     "start_time": "2023-11-13T13:13:11.041848",
     "status": "completed"
    },
    "tags": []
   },
   "outputs": [
    {
     "data": {
      "text/html": [
       "<div>\n",
       "<style scoped>\n",
       "    .dataframe tbody tr th:only-of-type {\n",
       "        vertical-align: middle;\n",
       "    }\n",
       "\n",
       "    .dataframe tbody tr th {\n",
       "        vertical-align: top;\n",
       "    }\n",
       "\n",
       "    .dataframe thead th {\n",
       "        text-align: right;\n",
       "    }\n",
       "</style>\n",
       "<table border=\"1\" class=\"dataframe\">\n",
       "  <thead>\n",
       "    <tr style=\"text-align: right;\">\n",
       "      <th></th>\n",
       "      <th>anime_id</th>\n",
       "      <th>name</th>\n",
       "    </tr>\n",
       "  </thead>\n",
       "  <tbody>\n",
       "    <tr>\n",
       "      <th>2744301</th>\n",
       "      <td>20</td>\n",
       "      <td>Naruto</td>\n",
       "    </tr>\n",
       "  </tbody>\n",
       "</table>\n",
       "</div>"
      ],
      "text/plain": [
       "         anime_id    name\n",
       "2744301        20  Naruto"
      ]
     },
     "execution_count": 16,
     "metadata": {},
     "output_type": "execute_result"
    }
   ],
   "source": [
    "common_anime[[\"anime_id\",\"name\"]][common_anime[\"name\"].str.contains(\"Naruto$\")].drop_duplicates().head(5)"
   ]
  },
  {
   "cell_type": "code",
   "execution_count": 17,
   "id": "9c9623d4",
   "metadata": {
    "execution": {
     "iopub.execute_input": "2023-11-13T13:13:14.835388Z",
     "iopub.status.busy": "2023-11-13T13:13:14.834348Z",
     "iopub.status.idle": "2023-11-13T13:13:14.858491Z",
     "shell.execute_reply": "2023-11-13T13:13:14.857389Z"
    },
    "papermill": {
     "duration": 0.047825,
     "end_time": "2023-11-13T13:13:14.861469",
     "exception": false,
     "start_time": "2023-11-13T13:13:14.813644",
     "status": "completed"
    },
    "tags": []
   },
   "outputs": [],
   "source": [
    "suggest_list = arl_recommender(rules,20,5)"
   ]
  },
  {
   "cell_type": "code",
   "execution_count": 18,
   "id": "f45b3b88",
   "metadata": {
    "execution": {
     "iopub.execute_input": "2023-11-13T13:13:14.900817Z",
     "iopub.status.busy": "2023-11-13T13:13:14.900395Z",
     "iopub.status.idle": "2023-11-13T13:13:14.905809Z",
     "shell.execute_reply": "2023-11-13T13:13:14.904763Z"
    },
    "papermill": {
     "duration": 0.02754,
     "end_time": "2023-11-13T13:13:14.907933",
     "exception": false,
     "start_time": "2023-11-13T13:13:14.880393",
     "status": "completed"
    },
    "tags": []
   },
   "outputs": [],
   "source": [
    "def check_id(data,id):\n",
    "    \n",
    "    name = data[\"name\"][data[\"anime_id\"] == id].iloc[0]\n",
    "    \n",
    "    return name"
   ]
  },
  {
   "cell_type": "code",
   "execution_count": 19,
   "id": "312282d0",
   "metadata": {
    "execution": {
     "iopub.execute_input": "2023-11-13T13:13:14.947904Z",
     "iopub.status.busy": "2023-11-13T13:13:14.947464Z",
     "iopub.status.idle": "2023-11-13T13:13:14.957085Z",
     "shell.execute_reply": "2023-11-13T13:13:14.955552Z"
    },
    "papermill": {
     "duration": 0.032565,
     "end_time": "2023-11-13T13:13:14.959445",
     "exception": false,
     "start_time": "2023-11-13T13:13:14.926880",
     "status": "completed"
    },
    "tags": []
   },
   "outputs": [
    {
     "name": "stdout",
     "output_type": "stream",
     "text": [
      "Code Geass: Hangyaku no Lelouch R2\n",
      "Death Note\n",
      "Code Geass: Hangyaku no Lelouch\n",
      "Sword Art Online\n",
      "Shingeki no Kyojin\n"
     ]
    }
   ],
   "source": [
    "for suggest in suggest_list:\n",
    "    \n",
    "    print(check_id(anime, id = suggest))"
   ]
  },
  {
   "cell_type": "markdown",
   "id": "ec358987",
   "metadata": {
    "papermill": {
     "duration": 0.019053,
     "end_time": "2023-11-13T13:13:14.997256",
     "exception": false,
     "start_time": "2023-11-13T13:13:14.978203",
     "status": "completed"
    },
    "tags": []
   },
   "source": [
    "<a id=\"7\"></a>\n",
    "<h1 style=\"border-radius: 10px; border: 2px solid #6B8E23; background-color: #F5F5DC; font-family: 'Pacifico', cursive; font-size: 200%; text-align: center; border-radius: 15px 50px; padding: 15px; box-shadow: 5px 5px 5px #556B2F; color: #556B2F;\">Content Based Filtering</h1>"
   ]
  },
  {
   "cell_type": "markdown",
   "id": "2e4ca8c2",
   "metadata": {
    "papermill": {
     "duration": 0.018456,
     "end_time": "2023-11-13T13:13:15.034759",
     "exception": false,
     "start_time": "2023-11-13T13:13:15.016303",
     "status": "completed"
    },
    "tags": []
   },
   "source": [
    "<a id = \"8\"></a><br>\n",
    "<p style=\"font-family: 'Pacifico', cursive; font-weight: bold; letter-spacing: 2px; color: #556B2F; font-size: 160%; text-align: left; padding: 0px; border-bottom: 3px solid\">✨Creating the TF-IDF Matrix✨</p>"
   ]
  },
  {
   "cell_type": "code",
   "execution_count": 20,
   "id": "f1be2db2",
   "metadata": {
    "execution": {
     "iopub.execute_input": "2023-11-13T13:13:15.074509Z",
     "iopub.status.busy": "2023-11-13T13:13:15.073829Z",
     "iopub.status.idle": "2023-11-13T13:13:15.345275Z",
     "shell.execute_reply": "2023-11-13T13:13:15.343807Z"
    },
    "papermill": {
     "duration": 0.294619,
     "end_time": "2023-11-13T13:13:15.348006",
     "exception": false,
     "start_time": "2023-11-13T13:13:15.053387",
     "status": "completed"
    },
    "tags": []
   },
   "outputs": [],
   "source": [
    "import pandas as pd\n",
    "\n",
    "from sklearn.feature_extraction.text import TfidfVectorizer\n",
    "from sklearn.metrics.pairwise import cosine_similarity\n",
    "\n",
    "import warnings\n",
    "warnings.filterwarnings(\"ignore\")"
   ]
  },
  {
   "cell_type": "code",
   "execution_count": 21,
   "id": "5c7e3d7c",
   "metadata": {
    "execution": {
     "iopub.execute_input": "2023-11-13T13:13:15.387871Z",
     "iopub.status.busy": "2023-11-13T13:13:15.387440Z",
     "iopub.status.idle": "2023-11-13T13:13:15.420455Z",
     "shell.execute_reply": "2023-11-13T13:13:15.419080Z"
    },
    "papermill": {
     "duration": 0.056058,
     "end_time": "2023-11-13T13:13:15.423388",
     "exception": false,
     "start_time": "2023-11-13T13:13:15.367330",
     "status": "completed"
    },
    "tags": []
   },
   "outputs": [],
   "source": [
    "anime = pd.read_csv(\"/kaggle/input/anime-recommendations-database/anime.csv\")"
   ]
  },
  {
   "cell_type": "code",
   "execution_count": 22,
   "id": "beb98f62",
   "metadata": {
    "execution": {
     "iopub.execute_input": "2023-11-13T13:13:15.463792Z",
     "iopub.status.busy": "2023-11-13T13:13:15.463349Z",
     "iopub.status.idle": "2023-11-13T13:13:15.480193Z",
     "shell.execute_reply": "2023-11-13T13:13:15.478747Z"
    },
    "papermill": {
     "duration": 0.03967,
     "end_time": "2023-11-13T13:13:15.482589",
     "exception": false,
     "start_time": "2023-11-13T13:13:15.442919",
     "status": "completed"
    },
    "tags": []
   },
   "outputs": [
    {
     "data": {
      "text/html": [
       "<div>\n",
       "<style scoped>\n",
       "    .dataframe tbody tr th:only-of-type {\n",
       "        vertical-align: middle;\n",
       "    }\n",
       "\n",
       "    .dataframe tbody tr th {\n",
       "        vertical-align: top;\n",
       "    }\n",
       "\n",
       "    .dataframe thead th {\n",
       "        text-align: right;\n",
       "    }\n",
       "</style>\n",
       "<table border=\"1\" class=\"dataframe\">\n",
       "  <thead>\n",
       "    <tr style=\"text-align: right;\">\n",
       "      <th></th>\n",
       "      <th>anime_id</th>\n",
       "      <th>name</th>\n",
       "      <th>genre</th>\n",
       "      <th>type</th>\n",
       "      <th>episodes</th>\n",
       "      <th>rating</th>\n",
       "      <th>members</th>\n",
       "    </tr>\n",
       "  </thead>\n",
       "  <tbody>\n",
       "    <tr>\n",
       "      <th>0</th>\n",
       "      <td>32281</td>\n",
       "      <td>Kimi no Na wa.</td>\n",
       "      <td>Drama, Romance, School, Supernatural</td>\n",
       "      <td>Movie</td>\n",
       "      <td>1</td>\n",
       "      <td>9.37</td>\n",
       "      <td>200630</td>\n",
       "    </tr>\n",
       "    <tr>\n",
       "      <th>1</th>\n",
       "      <td>5114</td>\n",
       "      <td>Fullmetal Alchemist: Brotherhood</td>\n",
       "      <td>Action, Adventure, Drama, Fantasy, Magic, Mili...</td>\n",
       "      <td>TV</td>\n",
       "      <td>64</td>\n",
       "      <td>9.26</td>\n",
       "      <td>793665</td>\n",
       "    </tr>\n",
       "    <tr>\n",
       "      <th>2</th>\n",
       "      <td>28977</td>\n",
       "      <td>Gintama°</td>\n",
       "      <td>Action, Comedy, Historical, Parody, Samurai, S...</td>\n",
       "      <td>TV</td>\n",
       "      <td>51</td>\n",
       "      <td>9.25</td>\n",
       "      <td>114262</td>\n",
       "    </tr>\n",
       "    <tr>\n",
       "      <th>3</th>\n",
       "      <td>9253</td>\n",
       "      <td>Steins;Gate</td>\n",
       "      <td>Sci-Fi, Thriller</td>\n",
       "      <td>TV</td>\n",
       "      <td>24</td>\n",
       "      <td>9.17</td>\n",
       "      <td>673572</td>\n",
       "    </tr>\n",
       "    <tr>\n",
       "      <th>4</th>\n",
       "      <td>9969</td>\n",
       "      <td>Gintama&amp;#039;</td>\n",
       "      <td>Action, Comedy, Historical, Parody, Samurai, S...</td>\n",
       "      <td>TV</td>\n",
       "      <td>51</td>\n",
       "      <td>9.16</td>\n",
       "      <td>151266</td>\n",
       "    </tr>\n",
       "  </tbody>\n",
       "</table>\n",
       "</div>"
      ],
      "text/plain": [
       "   anime_id                              name  \\\n",
       "0     32281                    Kimi no Na wa.   \n",
       "1      5114  Fullmetal Alchemist: Brotherhood   \n",
       "2     28977                          Gintama°   \n",
       "3      9253                       Steins;Gate   \n",
       "4      9969                     Gintama&#039;   \n",
       "\n",
       "                                               genre   type episodes  rating  \\\n",
       "0               Drama, Romance, School, Supernatural  Movie        1    9.37   \n",
       "1  Action, Adventure, Drama, Fantasy, Magic, Mili...     TV       64    9.26   \n",
       "2  Action, Comedy, Historical, Parody, Samurai, S...     TV       51    9.25   \n",
       "3                                   Sci-Fi, Thriller     TV       24    9.17   \n",
       "4  Action, Comedy, Historical, Parody, Samurai, S...     TV       51    9.16   \n",
       "\n",
       "   members  \n",
       "0   200630  \n",
       "1   793665  \n",
       "2   114262  \n",
       "3   673572  \n",
       "4   151266  "
      ]
     },
     "execution_count": 22,
     "metadata": {},
     "output_type": "execute_result"
    }
   ],
   "source": [
    "anime.head()"
   ]
  },
  {
   "cell_type": "code",
   "execution_count": 23,
   "id": "3d65c365",
   "metadata": {
    "execution": {
     "iopub.execute_input": "2023-11-13T13:13:15.525548Z",
     "iopub.status.busy": "2023-11-13T13:13:15.524416Z",
     "iopub.status.idle": "2023-11-13T13:13:15.540175Z",
     "shell.execute_reply": "2023-11-13T13:13:15.538820Z"
    },
    "papermill": {
     "duration": 0.039732,
     "end_time": "2023-11-13T13:13:15.542761",
     "exception": false,
     "start_time": "2023-11-13T13:13:15.503029",
     "status": "completed"
    },
    "tags": []
   },
   "outputs": [
    {
     "data": {
      "text/plain": [
       "anime_id      0\n",
       "name          0\n",
       "genre        62\n",
       "type         25\n",
       "episodes      0\n",
       "rating      230\n",
       "members       0\n",
       "dtype: int64"
      ]
     },
     "execution_count": 23,
     "metadata": {},
     "output_type": "execute_result"
    }
   ],
   "source": [
    "anime.isnull().sum()"
   ]
  },
  {
   "cell_type": "code",
   "execution_count": 24,
   "id": "32311969",
   "metadata": {
    "execution": {
     "iopub.execute_input": "2023-11-13T13:13:15.586505Z",
     "iopub.status.busy": "2023-11-13T13:13:15.586013Z",
     "iopub.status.idle": "2023-11-13T13:13:15.597145Z",
     "shell.execute_reply": "2023-11-13T13:13:15.596153Z"
    },
    "papermill": {
     "duration": 0.035158,
     "end_time": "2023-11-13T13:13:15.599791",
     "exception": false,
     "start_time": "2023-11-13T13:13:15.564633",
     "status": "completed"
    },
    "tags": []
   },
   "outputs": [],
   "source": [
    "anime.dropna(subset=['genre'], inplace=True)"
   ]
  },
  {
   "cell_type": "code",
   "execution_count": 25,
   "id": "b0224ddf",
   "metadata": {
    "execution": {
     "iopub.execute_input": "2023-11-13T13:13:15.640941Z",
     "iopub.status.busy": "2023-11-13T13:13:15.640406Z",
     "iopub.status.idle": "2023-11-13T13:13:15.649903Z",
     "shell.execute_reply": "2023-11-13T13:13:15.648703Z"
    },
    "papermill": {
     "duration": 0.033317,
     "end_time": "2023-11-13T13:13:15.652542",
     "exception": false,
     "start_time": "2023-11-13T13:13:15.619225",
     "status": "completed"
    },
    "tags": []
   },
   "outputs": [
    {
     "data": {
      "text/plain": [
       "0                 Drama, Romance, School, Supernatural\n",
       "1    Action, Adventure, Drama, Fantasy, Magic, Mili...\n",
       "2    Action, Comedy, Historical, Parody, Samurai, S...\n",
       "3                                     Sci-Fi, Thriller\n",
       "4    Action, Comedy, Historical, Parody, Samurai, S...\n",
       "Name: genre, dtype: object"
      ]
     },
     "execution_count": 25,
     "metadata": {},
     "output_type": "execute_result"
    }
   ],
   "source": [
    "anime[\"genre\"].head()"
   ]
  },
  {
   "cell_type": "code",
   "execution_count": 26,
   "id": "6ceaf8a4",
   "metadata": {
    "execution": {
     "iopub.execute_input": "2023-11-13T13:13:15.694559Z",
     "iopub.status.busy": "2023-11-13T13:13:15.693750Z",
     "iopub.status.idle": "2023-11-13T13:13:15.699498Z",
     "shell.execute_reply": "2023-11-13T13:13:15.698211Z"
    },
    "papermill": {
     "duration": 0.029256,
     "end_time": "2023-11-13T13:13:15.701930",
     "exception": false,
     "start_time": "2023-11-13T13:13:15.672674",
     "status": "completed"
    },
    "tags": []
   },
   "outputs": [],
   "source": [
    "tfidf = TfidfVectorizer(stop_words=\"english\")"
   ]
  },
  {
   "cell_type": "code",
   "execution_count": 27,
   "id": "86fb2ca2",
   "metadata": {
    "execution": {
     "iopub.execute_input": "2023-11-13T13:13:15.744109Z",
     "iopub.status.busy": "2023-11-13T13:13:15.743660Z",
     "iopub.status.idle": "2023-11-13T13:13:15.751897Z",
     "shell.execute_reply": "2023-11-13T13:13:15.750598Z"
    },
    "papermill": {
     "duration": 0.032212,
     "end_time": "2023-11-13T13:13:15.754544",
     "exception": false,
     "start_time": "2023-11-13T13:13:15.722332",
     "status": "completed"
    },
    "tags": []
   },
   "outputs": [],
   "source": [
    "anime['genre'] = anime['genre'].fillna('')"
   ]
  },
  {
   "cell_type": "code",
   "execution_count": 28,
   "id": "76965856",
   "metadata": {
    "execution": {
     "iopub.execute_input": "2023-11-13T13:13:15.796518Z",
     "iopub.status.busy": "2023-11-13T13:13:15.796096Z",
     "iopub.status.idle": "2023-11-13T13:13:15.937206Z",
     "shell.execute_reply": "2023-11-13T13:13:15.935986Z"
    },
    "papermill": {
     "duration": 0.165077,
     "end_time": "2023-11-13T13:13:15.940178",
     "exception": false,
     "start_time": "2023-11-13T13:13:15.775101",
     "status": "completed"
    },
    "tags": []
   },
   "outputs": [],
   "source": [
    "tfidf_matrix = tfidf.fit_transform(anime['genre'])"
   ]
  },
  {
   "cell_type": "code",
   "execution_count": 29,
   "id": "2894b2c3",
   "metadata": {
    "execution": {
     "iopub.execute_input": "2023-11-13T13:13:15.983016Z",
     "iopub.status.busy": "2023-11-13T13:13:15.982584Z",
     "iopub.status.idle": "2023-11-13T13:13:15.989136Z",
     "shell.execute_reply": "2023-11-13T13:13:15.988275Z"
    },
    "papermill": {
     "duration": 0.031152,
     "end_time": "2023-11-13T13:13:15.991357",
     "exception": false,
     "start_time": "2023-11-13T13:13:15.960205",
     "status": "completed"
    },
    "tags": []
   },
   "outputs": [
    {
     "data": {
      "text/plain": [
       "(12232, 46)"
      ]
     },
     "execution_count": 29,
     "metadata": {},
     "output_type": "execute_result"
    }
   ],
   "source": [
    "tfidf_matrix.shape # 12294 unique anime"
   ]
  },
  {
   "cell_type": "code",
   "execution_count": 30,
   "id": "c955b6c1",
   "metadata": {
    "execution": {
     "iopub.execute_input": "2023-11-13T13:13:16.033114Z",
     "iopub.status.busy": "2023-11-13T13:13:16.031817Z",
     "iopub.status.idle": "2023-11-13T13:13:16.040299Z",
     "shell.execute_reply": "2023-11-13T13:13:16.039050Z"
    },
    "papermill": {
     "duration": 0.032131,
     "end_time": "2023-11-13T13:13:16.043044",
     "exception": false,
     "start_time": "2023-11-13T13:13:16.010913",
     "status": "completed"
    },
    "tags": []
   },
   "outputs": [
    {
     "data": {
      "text/plain": [
       "array(['action', 'adventure', 'ai', 'arts', 'cars', 'comedy', 'dementia',\n",
       "       'demons', 'drama', 'ecchi', 'fantasy', 'fi', 'game', 'harem',\n",
       "       'hentai', 'historical', 'horror', 'josei', 'kids', 'life', 'magic',\n",
       "       'martial', 'mecha', 'military', 'music', 'mystery', 'parody',\n",
       "       'police', 'power', 'psychological', 'romance', 'samurai', 'school',\n",
       "       'sci', 'seinen', 'shoujo', 'shounen', 'slice', 'space', 'sports',\n",
       "       'super', 'supernatural', 'thriller', 'vampire', 'yaoi', 'yuri'],\n",
       "      dtype=object)"
      ]
     },
     "execution_count": 30,
     "metadata": {},
     "output_type": "execute_result"
    }
   ],
   "source": [
    "feature_names = tfidf.get_feature_names_out()\n",
    "\n",
    "feature_names"
   ]
  },
  {
   "cell_type": "code",
   "execution_count": 31,
   "id": "0cacee22",
   "metadata": {
    "execution": {
     "iopub.execute_input": "2023-11-13T13:13:16.086144Z",
     "iopub.status.busy": "2023-11-13T13:13:16.085151Z",
     "iopub.status.idle": "2023-11-13T13:13:16.094822Z",
     "shell.execute_reply": "2023-11-13T13:13:16.093780Z"
    },
    "papermill": {
     "duration": 0.034164,
     "end_time": "2023-11-13T13:13:16.097263",
     "exception": false,
     "start_time": "2023-11-13T13:13:16.063099",
     "status": "completed"
    },
    "tags": []
   },
   "outputs": [
    {
     "data": {
      "text/plain": [
       "array([[0.        , 0.        , 0.        , ..., 0.        , 0.        ,\n",
       "        0.        ],\n",
       "       [0.29450574, 0.31749916, 0.        , ..., 0.        , 0.        ,\n",
       "        0.        ],\n",
       "       [0.25046406, 0.        , 0.        , ..., 0.        , 0.        ,\n",
       "        0.        ],\n",
       "       ...,\n",
       "       [0.        , 0.        , 0.        , ..., 0.        , 0.        ,\n",
       "        0.        ],\n",
       "       [0.        , 0.        , 0.        , ..., 0.        , 0.        ,\n",
       "        0.        ],\n",
       "       [0.        , 0.        , 0.        , ..., 0.        , 0.        ,\n",
       "        0.        ]])"
      ]
     },
     "execution_count": 31,
     "metadata": {},
     "output_type": "execute_result"
    }
   ],
   "source": [
    "tfidf_matrix.toarray() # # the scores at the intersection of documents and terms."
   ]
  },
  {
   "cell_type": "markdown",
   "id": "2a92337d",
   "metadata": {
    "papermill": {
     "duration": 0.019807,
     "end_time": "2023-11-13T13:13:16.136999",
     "exception": false,
     "start_time": "2023-11-13T13:13:16.117192",
     "status": "completed"
    },
    "tags": []
   },
   "source": [
    "<a id = \"9\"></a><br>\n",
    "<p style=\"font-family: 'Pacifico', cursive; font-weight: bold; letter-spacing: 2px; color: #556B2F; font-size: 160%; text-align: left; padding: 0px; border-bottom: 3px solid\">✨Cosine Sim Calculator✨</p>"
   ]
  },
  {
   "cell_type": "code",
   "execution_count": 32,
   "id": "7d237ea0",
   "metadata": {
    "execution": {
     "iopub.execute_input": "2023-11-13T13:13:16.179369Z",
     "iopub.status.busy": "2023-11-13T13:13:16.178391Z",
     "iopub.status.idle": "2023-11-13T13:13:19.162075Z",
     "shell.execute_reply": "2023-11-13T13:13:19.161047Z"
    },
    "papermill": {
     "duration": 3.008199,
     "end_time": "2023-11-13T13:13:19.164897",
     "exception": false,
     "start_time": "2023-11-13T13:13:16.156698",
     "status": "completed"
    },
    "tags": []
   },
   "outputs": [],
   "source": [
    "cosine_sim = cosine_similarity(tfidf_matrix,\n",
    "                               tfidf_matrix)"
   ]
  },
  {
   "cell_type": "code",
   "execution_count": 33,
   "id": "77c1118a",
   "metadata": {
    "execution": {
     "iopub.execute_input": "2023-11-13T13:13:19.207283Z",
     "iopub.status.busy": "2023-11-13T13:13:19.206872Z",
     "iopub.status.idle": "2023-11-13T13:13:19.213596Z",
     "shell.execute_reply": "2023-11-13T13:13:19.212583Z"
    },
    "papermill": {
     "duration": 0.030712,
     "end_time": "2023-11-13T13:13:19.216042",
     "exception": false,
     "start_time": "2023-11-13T13:13:19.185330",
     "status": "completed"
    },
    "tags": []
   },
   "outputs": [
    {
     "data": {
      "text/plain": [
       "(12232, 12232)"
      ]
     },
     "execution_count": 33,
     "metadata": {},
     "output_type": "execute_result"
    }
   ],
   "source": [
    "cosine_sim.shape"
   ]
  },
  {
   "cell_type": "markdown",
   "id": "6dabbcde",
   "metadata": {
    "papermill": {
     "duration": 0.01985,
     "end_time": "2023-11-13T13:13:19.256109",
     "exception": false,
     "start_time": "2023-11-13T13:13:19.236259",
     "status": "completed"
    },
    "tags": []
   },
   "source": [
    "<a id = \"10\"></a><br>\n",
    "<p style=\"font-family: 'Pacifico', cursive; font-weight: bold; letter-spacing: 2px; color: #556B2F; font-size: 160%; text-align: left; padding: 0px; border-bottom: 3px solid\">✨Recommendation Based on Similarities✨</p>"
   ]
  },
  {
   "cell_type": "code",
   "execution_count": 34,
   "id": "bbde2d2d",
   "metadata": {
    "execution": {
     "iopub.execute_input": "2023-11-13T13:13:19.299391Z",
     "iopub.status.busy": "2023-11-13T13:13:19.298610Z",
     "iopub.status.idle": "2023-11-13T13:13:19.303643Z",
     "shell.execute_reply": "2023-11-13T13:13:19.302873Z"
    },
    "papermill": {
     "duration": 0.029568,
     "end_time": "2023-11-13T13:13:19.305931",
     "exception": false,
     "start_time": "2023-11-13T13:13:19.276363",
     "status": "completed"
    },
    "tags": []
   },
   "outputs": [],
   "source": [
    "indices = pd.Series(anime.index, index=anime['name'])"
   ]
  },
  {
   "cell_type": "code",
   "execution_count": 35,
   "id": "8a32ab8d",
   "metadata": {
    "execution": {
     "iopub.execute_input": "2023-11-13T13:13:19.347821Z",
     "iopub.status.busy": "2023-11-13T13:13:19.347377Z",
     "iopub.status.idle": "2023-11-13T13:13:19.356414Z",
     "shell.execute_reply": "2023-11-13T13:13:19.355202Z"
    },
    "papermill": {
     "duration": 0.032436,
     "end_time": "2023-11-13T13:13:19.358538",
     "exception": false,
     "start_time": "2023-11-13T13:13:19.326102",
     "status": "completed"
    },
    "tags": []
   },
   "outputs": [],
   "source": [
    "indices = indices[~indices.index.duplicated(keep='last')]"
   ]
  },
  {
   "cell_type": "code",
   "execution_count": 36,
   "id": "7b081b38",
   "metadata": {
    "execution": {
     "iopub.execute_input": "2023-11-13T13:13:19.400740Z",
     "iopub.status.busy": "2023-11-13T13:13:19.399958Z",
     "iopub.status.idle": "2023-11-13T13:13:19.406289Z",
     "shell.execute_reply": "2023-11-13T13:13:19.405174Z"
    },
    "papermill": {
     "duration": 0.030067,
     "end_time": "2023-11-13T13:13:19.408642",
     "exception": false,
     "start_time": "2023-11-13T13:13:19.378575",
     "status": "completed"
    },
    "tags": []
   },
   "outputs": [],
   "source": [
    "movie_index = indices[\"One Piece\"]"
   ]
  },
  {
   "cell_type": "code",
   "execution_count": 37,
   "id": "d1fd0bc7",
   "metadata": {
    "execution": {
     "iopub.execute_input": "2023-11-13T13:13:19.452138Z",
     "iopub.status.busy": "2023-11-13T13:13:19.451541Z",
     "iopub.status.idle": "2023-11-13T13:13:19.459690Z",
     "shell.execute_reply": "2023-11-13T13:13:19.458437Z"
    },
    "papermill": {
     "duration": 0.032896,
     "end_time": "2023-11-13T13:13:19.462323",
     "exception": false,
     "start_time": "2023-11-13T13:13:19.429427",
     "status": "completed"
    },
    "tags": []
   },
   "outputs": [
    {
     "data": {
      "text/plain": [
       "array([0.14065349, 0.5001569 , 0.21489077, ..., 0.        , 0.        ,\n",
       "       0.        ])"
      ]
     },
     "execution_count": 37,
     "metadata": {},
     "output_type": "execute_result"
    }
   ],
   "source": [
    "cosine_sim[movie_index]"
   ]
  },
  {
   "cell_type": "code",
   "execution_count": 38,
   "id": "5cb414c6",
   "metadata": {
    "execution": {
     "iopub.execute_input": "2023-11-13T13:13:19.505565Z",
     "iopub.status.busy": "2023-11-13T13:13:19.505179Z",
     "iopub.status.idle": "2023-11-13T13:13:19.510513Z",
     "shell.execute_reply": "2023-11-13T13:13:19.509420Z"
    },
    "papermill": {
     "duration": 0.029398,
     "end_time": "2023-11-13T13:13:19.512820",
     "exception": false,
     "start_time": "2023-11-13T13:13:19.483422",
     "status": "completed"
    },
    "tags": []
   },
   "outputs": [],
   "source": [
    "similarity_scores = pd.DataFrame(cosine_sim[movie_index],\n",
    "                                 columns=[\"score\"])"
   ]
  },
  {
   "cell_type": "code",
   "execution_count": 39,
   "id": "c190e73a",
   "metadata": {
    "execution": {
     "iopub.execute_input": "2023-11-13T13:13:19.555697Z",
     "iopub.status.busy": "2023-11-13T13:13:19.555230Z",
     "iopub.status.idle": "2023-11-13T13:13:19.562039Z",
     "shell.execute_reply": "2023-11-13T13:13:19.560930Z"
    },
    "papermill": {
     "duration": 0.031452,
     "end_time": "2023-11-13T13:13:19.564556",
     "exception": false,
     "start_time": "2023-11-13T13:13:19.533104",
     "status": "completed"
    },
    "tags": []
   },
   "outputs": [],
   "source": [
    "movie_indices = similarity_scores.sort_values(\"score\", ascending=False)[1:11].index"
   ]
  },
  {
   "cell_type": "code",
   "execution_count": 40,
   "id": "290bc7fb",
   "metadata": {
    "execution": {
     "iopub.execute_input": "2023-11-13T13:13:19.608654Z",
     "iopub.status.busy": "2023-11-13T13:13:19.607430Z",
     "iopub.status.idle": "2023-11-13T13:13:19.617012Z",
     "shell.execute_reply": "2023-11-13T13:13:19.615851Z"
    },
    "papermill": {
     "duration": 0.03369,
     "end_time": "2023-11-13T13:13:19.619292",
     "exception": false,
     "start_time": "2023-11-13T13:13:19.585602",
     "status": "completed"
    },
    "tags": []
   },
   "outputs": [
    {
     "data": {
      "text/plain": [
       "241     One Piece: Episode of Nami - Koukaishi no Nami...\n",
       "74                                              One Piece\n",
       "896     One Piece: Episode of Sabo - 3 Kyoudai no Kizu...\n",
       "2723    One Piece Movie 3: Chinjuu-jima no Chopper Oukoku\n",
       "1793                 One Piece Movie 5: Norowareta Seiken\n",
       "352                One Piece Film: Strong World Episode 0\n",
       "753     One Piece: Episode of Luffy - Hand Island no B...\n",
       "2161                                      One Piece Recap\n",
       "1795              One Piece: Umi no Heso no Daibouken-hen\n",
       "1171    One Piece Movie 9: Episode of Chopper Plus - F...\n",
       "Name: name, dtype: object"
      ]
     },
     "execution_count": 40,
     "metadata": {},
     "output_type": "execute_result"
    }
   ],
   "source": [
    "anime['name'].iloc[movie_indices]"
   ]
  },
  {
   "cell_type": "markdown",
   "id": "d9b21b04",
   "metadata": {
    "papermill": {
     "duration": 0.020086,
     "end_time": "2023-11-13T13:13:19.660130",
     "exception": false,
     "start_time": "2023-11-13T13:13:19.640044",
     "status": "completed"
    },
    "tags": []
   },
   "source": [
    "<center><img src=\"https://i.imgur.com/LLXhQ2c.jpg\" width=\"800\" height=\"800\"></center>"
   ]
  }
 ],
 "metadata": {
  "kernelspec": {
   "display_name": "Python 3",
   "language": "python",
   "name": "python3"
  },
  "language_info": {
   "codemirror_mode": {
    "name": "ipython",
    "version": 3
   },
   "file_extension": ".py",
   "mimetype": "text/x-python",
   "name": "python",
   "nbconvert_exporter": "python",
   "pygments_lexer": "ipython3",
   "version": "3.10.12"
  },
  "papermill": {
   "default_parameters": {},
   "duration": 44.061879,
   "end_time": "2023-11-13T13:13:20.603580",
   "environment_variables": {},
   "exception": null,
   "input_path": "__notebook__.ipynb",
   "output_path": "__notebook__.ipynb",
   "parameters": {},
   "start_time": "2023-11-13T13:12:36.541701",
   "version": "2.4.0"
  }
 },
 "nbformat": 4,
 "nbformat_minor": 5
}
